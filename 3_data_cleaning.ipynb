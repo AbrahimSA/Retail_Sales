{
 "cells": [
  {
   "cell_type": "code",
   "execution_count": 4,
   "metadata": {},
   "outputs": [],
   "source": [
    "# Load the necessary libraries\n",
    "import pandas as pd\n",
    "import numpy as np\n",
    "import os\n",
    "\n",
    "# Load your dataset\n",
    "relative_path = os.path.join(\"data/raw\", \"retail_sales_dataset.csv\")\n",
    "df = pd.read_csv(relative_path)\n"
   ]
  },
  {
   "cell_type": "code",
   "execution_count": 6,
   "metadata": {},
   "outputs": [
    {
     "name": "stdout",
     "output_type": "stream",
     "text": [
      "Duplicates values\n",
      "Number of duplicate rows: 0\n",
      "\n",
      "Number of null dates: 0\n",
      "\n",
      "Categorical variables\n",
      "['Male' 'Female']\n",
      "['Beauty' 'Clothing' 'Electronics']\n",
      "\n",
      "Numerical variables\n",
      "       Transaction ID                           Date         Age     Quantity  \\\n",
      "count     1000.000000                           1000  1000.00000  1000.000000   \n",
      "mean       500.500000  2023-07-03 00:25:55.200000256    41.39200     2.514000   \n",
      "min          1.000000            2023-01-01 00:00:00    18.00000     1.000000   \n",
      "25%        250.750000            2023-04-08 00:00:00    29.00000     1.000000   \n",
      "50%        500.500000            2023-06-29 12:00:00    42.00000     3.000000   \n",
      "75%        750.250000            2023-10-04 00:00:00    53.00000     4.000000   \n",
      "max       1000.000000            2024-01-01 00:00:00    64.00000     4.000000   \n",
      "std        288.819436                            NaN    13.68143     1.132734   \n",
      "\n",
      "       Price per Unit  Total Amount  \n",
      "count     1000.000000   1000.000000  \n",
      "mean       179.890000    456.000000  \n",
      "min         25.000000     25.000000  \n",
      "25%         30.000000     60.000000  \n",
      "50%         50.000000    135.000000  \n",
      "75%        300.000000    900.000000  \n",
      "max        500.000000   2000.000000  \n",
      "std        189.681356    559.997632  \n",
      "Empty DataFrame\n",
      "Columns: [Transaction ID, Date, Customer ID, Gender, Age, Product Category, Quantity, Price per Unit, Total Amount]\n",
      "Index: []\n",
      "Empty DataFrame\n",
      "Columns: [Transaction ID, Date, Customer ID, Gender, Age, Product Category, Quantity, Price per Unit, Total Amount]\n",
      "Index: []\n",
      "\n",
      "Hidden missing values\n",
      "Transaction ID      0\n",
      "Date                0\n",
      "Customer ID         0\n",
      "Gender              0\n",
      "Age                 0\n",
      "Product Category    0\n",
      "Quantity            0\n",
      "Price per Unit      0\n",
      "Total Amount        0\n",
      "dtype: int64\n"
     ]
    }
   ],
   "source": [
    "import pandas as pd\n",
    "\n",
    "# 1. Duplicates\n",
    "print(\"Duplicates values\")\n",
    "print(f\"Number of duplicate rows: {df.duplicated().sum()}\")\n",
    "df.drop_duplicates(inplace=True)\n",
    "\n",
    "# 2. Date conversion\n",
    "print(\"\")\n",
    "df['Date'] = pd.to_datetime(df['Date'])\n",
    "print(f\"Number of null dates: {df['Date'].isnull().sum()}\")\n",
    "\n",
    "# 3. Categorical variables\n",
    "print(\"\")\n",
    "print(\"Categorical variables\")\n",
    "print(df['Gender'].unique())\n",
    "print(df['Product Category'].unique())\n",
    "\n",
    "# 4. Numerical variables\n",
    "print(\"\")\n",
    "print(\"Numerical variables\")\n",
    "print(df.describe())  # Basic statistics\n",
    "print(df[df['Quantity'] < 0])\n",
    "print(df[df['Total Amount'] != df['Quantity'] * df['Price per Unit']])\n",
    "\n",
    "# 5. Hidden missing values\n",
    "print(\"\")\n",
    "print(\"Hidden missing values\")\n",
    "df.replace(['', ' ', 'NA', 'N/A', 'NaN'], pd.NA, inplace=True)\n",
    "print(df.isnull().sum())"
   ]
  }
 ],
 "metadata": {
  "kernelspec": {
   "display_name": "dsi_participant",
   "language": "python",
   "name": "python3"
  },
  "language_info": {
   "codemirror_mode": {
    "name": "ipython",
    "version": 3
   },
   "file_extension": ".py",
   "mimetype": "text/x-python",
   "name": "python",
   "nbconvert_exporter": "python",
   "pygments_lexer": "ipython3",
   "version": "3.9.15"
  }
 },
 "nbformat": 4,
 "nbformat_minor": 2
}
